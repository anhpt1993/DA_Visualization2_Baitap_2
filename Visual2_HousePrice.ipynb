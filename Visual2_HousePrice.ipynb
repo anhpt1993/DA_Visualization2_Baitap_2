{
  "nbformat": 4,
  "nbformat_minor": 0,
  "metadata": {
    "colab": {
      "name": "Visual2_HousePrice.ipynb",
      "provenance": [],
      "collapsed_sections": []
    },
    "kernelspec": {
      "name": "python3",
      "display_name": "Python 3"
    },
    "language_info": {
      "name": "python"
    }
  },
  "cells": [
    {
      "cell_type": "markdown",
      "source": [
        "Yêu cầu vẽ biểu đồ kết hợp để:</br>\n",
        "- Phân tích mối liên hệ giữa diện tích với giá nhà. Đồng thời, giữa số phòng ngủ với giá nhà và giữa số toilet với giá nhà.\n",
        "- So sánh giá nhà trung bình trên 1 m2 giữa các hình thức nhà (type_of_land). Đồng thời thể hiện tỉ lệ % bài đăng (bản ghi) giữa các hình thức nhà (type_of_land).\n",
        "- Vẽ biểu đồ thể hiện sự thay đổi giá nhà trung bình trên 1m2 theo số lượng phòng ngủ, theo số phòng toilet hoặc theo diện tích."
      ],
      "metadata": {
        "id": "JkCVJT_j-MD3"
      }
    },
    {
      "cell_type": "markdown",
      "source": [
        "# 0. Khai báo các thư viện cần thiết"
      ],
      "metadata": {
        "id": "8mAkf1dz-btv"
      }
    },
    {
      "cell_type": "code",
      "source": [
        "import pandas as pd\n",
        "import numpy as np\n",
        "import matplotlib.pyplot as plt\n",
        "from scipy import stats"
      ],
      "metadata": {
        "id": "Oxi6Su9H-ftE"
      },
      "execution_count": null,
      "outputs": []
    },
    {
      "cell_type": "markdown",
      "source": [
        "# 1. Đọc dữ liệu từ file EXCEL"
      ],
      "metadata": {
        "id": "uwzAnpAj-mq8"
      }
    },
    {
      "cell_type": "code",
      "execution_count": null,
      "metadata": {
        "colab": {
          "base_uri": "https://localhost:8080/",
          "height": 493
        },
        "id": "RvvU4sNc-EN9",
        "outputId": "74d3325d-5966-41b8-c031-a929aa4d7835"
      },
      "outputs": [
        {
          "output_type": "stream",
          "name": "stderr",
          "text": [
            "/usr/local/lib/python3.7/dist-packages/openpyxl/worksheet/_reader.py:312: UserWarning: Unknown extension is not supported and will be removed\n",
            "  warn(msg)\n"
          ]
        },
        {
          "output_type": "execute_result",
          "data": {
            "text/html": [
              "\n",
              "  <div id=\"df-18ea1665-55e7-40f4-9764-e99136931e22\">\n",
              "    <div class=\"colab-df-container\">\n",
              "      <div>\n",
              "<style scoped>\n",
              "    .dataframe tbody tr th:only-of-type {\n",
              "        vertical-align: middle;\n",
              "    }\n",
              "\n",
              "    .dataframe tbody tr th {\n",
              "        vertical-align: top;\n",
              "    }\n",
              "\n",
              "    .dataframe thead th {\n",
              "        text-align: right;\n",
              "    }\n",
              "</style>\n",
              "<table border=\"1\" class=\"dataframe\">\n",
              "  <thead>\n",
              "    <tr style=\"text-align: right;\">\n",
              "      <th></th>\n",
              "      <th>title</th>\n",
              "      <th>address</th>\n",
              "      <th>area</th>\n",
              "      <th>price</th>\n",
              "      <th>postDate</th>\n",
              "      <th>land_certificate</th>\n",
              "      <th>house_direction</th>\n",
              "      <th>balcony_direction</th>\n",
              "      <th>toilet</th>\n",
              "      <th>bedroom</th>\n",
              "      <th>floor</th>\n",
              "      <th>type_of_land</th>\n",
              "      <th>street_name</th>\n",
              "      <th>ward_name</th>\n",
              "      <th>district_name</th>\n",
              "      <th>city_name</th>\n",
              "      <th>lat</th>\n",
              "      <th>long</th>\n",
              "    </tr>\n",
              "  </thead>\n",
              "  <tbody>\n",
              "    <tr>\n",
              "      <th>0</th>\n",
              "      <td>Bán nhà Trần Quang Diệu mới coong đẹp 50m2x6 t...</td>\n",
              "      <td>Đường Trần Quang Diệu, Phường Trung Liệt, Đốn...</td>\n",
              "      <td>50.0</td>\n",
              "      <td>14700.0</td>\n",
              "      <td>2021-01-01</td>\n",
              "      <td>Sổ đỏ</td>\n",
              "      <td>NaN</td>\n",
              "      <td>NaN</td>\n",
              "      <td>4.0</td>\n",
              "      <td>6.0</td>\n",
              "      <td>6.0</td>\n",
              "      <td>Bán nhà riêng\\n</td>\n",
              "      <td>Đường Trần Quang Diệu</td>\n",
              "      <td>Phường Trung Liệt</td>\n",
              "      <td>Quận Đống Đa</td>\n",
              "      <td>Thành phố Hà Nội</td>\n",
              "      <td>21.015698</td>\n",
              "      <td>105.824583</td>\n",
              "    </tr>\n",
              "    <tr>\n",
              "      <th>1</th>\n",
              "      <td>Bán nhà mặt phố Tây Sơn - 6 tầng. Kinh doanh t...</td>\n",
              "      <td>Đường Tây Sơn, Phường Trung Liệt, Đống Đa, Hà...</td>\n",
              "      <td>35.0</td>\n",
              "      <td>12500.0</td>\n",
              "      <td>2021-02-19</td>\n",
              "      <td>Sổ đỏ</td>\n",
              "      <td>NaN</td>\n",
              "      <td>NaN</td>\n",
              "      <td>NaN</td>\n",
              "      <td>NaN</td>\n",
              "      <td>6.0</td>\n",
              "      <td>Bán nhà mặt phố\\n</td>\n",
              "      <td>Phố Trung Liệt</td>\n",
              "      <td>Phường Trung Liệt</td>\n",
              "      <td>Quận Đống Đa</td>\n",
              "      <td>Thành phố Hà Nội</td>\n",
              "      <td>21.008930</td>\n",
              "      <td>105.824105</td>\n",
              "    </tr>\n",
              "    <tr>\n",
              "      <th>2</th>\n",
              "      <td>Bán nhà số 36 Đoàn Kết - phố Khâm Thiên - Đống...</td>\n",
              "      <td>Số 36 Đoàn Kết, Phố Khâm Thiên, Phường Thổ Qu...</td>\n",
              "      <td>57.0</td>\n",
              "      <td>4200.0</td>\n",
              "      <td>2021-03-10</td>\n",
              "      <td>Sổ đỏ</td>\n",
              "      <td>Nam</td>\n",
              "      <td>Nam</td>\n",
              "      <td>3.0</td>\n",
              "      <td>8.0</td>\n",
              "      <td>4.0</td>\n",
              "      <td>Bán nhà riêng\\n</td>\n",
              "      <td>Phố Khâm Thiên</td>\n",
              "      <td>Phường Khâm Thiên</td>\n",
              "      <td>Quận Đống Đa</td>\n",
              "      <td>Thành phố Hà Nội</td>\n",
              "      <td>21.025208</td>\n",
              "      <td>105.833111</td>\n",
              "    </tr>\n",
              "    <tr>\n",
              "      <th>3</th>\n",
              "      <td>Bán nhà 6 tầng mới kinh doanh mặt ngõ 1194 Đườ...</td>\n",
              "      <td>Ngõ 1194, Đường Láng, Phường Láng Thượng, Đố...</td>\n",
              "      <td>62.0</td>\n",
              "      <td>11000.0</td>\n",
              "      <td>2021-03-13</td>\n",
              "      <td>Sổ đỏ</td>\n",
              "      <td>Đông</td>\n",
              "      <td>Đông-Nam</td>\n",
              "      <td>6.0</td>\n",
              "      <td>5.0</td>\n",
              "      <td>6.0</td>\n",
              "      <td>Bán nhà riêng\\n</td>\n",
              "      <td>Đường Láng Thượng</td>\n",
              "      <td>Phường Láng Thượng</td>\n",
              "      <td>Quận Đống Đa</td>\n",
              "      <td>Thành phố Hà Nội</td>\n",
              "      <td>21.025379</td>\n",
              "      <td>105.801011</td>\n",
              "    </tr>\n",
              "    <tr>\n",
              "      <th>4</th>\n",
              "      <td>Bán nhà mặt phố Thái Hà 70m2, 5 tầng, 4.5m mặt...</td>\n",
              "      <td>Phố Thái Hà, Phường Trung Liệt, Đống Đa, Hà Nội</td>\n",
              "      <td>70.0</td>\n",
              "      <td>36000.0</td>\n",
              "      <td>2021-03-13</td>\n",
              "      <td>Sổ đỏ</td>\n",
              "      <td>NaN</td>\n",
              "      <td>NaN</td>\n",
              "      <td>NaN</td>\n",
              "      <td>6.0</td>\n",
              "      <td>5.0</td>\n",
              "      <td>Bán nhà mặt phố\\n</td>\n",
              "      <td>Phố Trung Liệt</td>\n",
              "      <td>Phường Trung Liệt</td>\n",
              "      <td>Quận Đống Đa</td>\n",
              "      <td>Thành phố Hà Nội</td>\n",
              "      <td>21.009239</td>\n",
              "      <td>105.824230</td>\n",
              "    </tr>\n",
              "  </tbody>\n",
              "</table>\n",
              "</div>\n",
              "      <button class=\"colab-df-convert\" onclick=\"convertToInteractive('df-18ea1665-55e7-40f4-9764-e99136931e22')\"\n",
              "              title=\"Convert this dataframe to an interactive table.\"\n",
              "              style=\"display:none;\">\n",
              "        \n",
              "  <svg xmlns=\"http://www.w3.org/2000/svg\" height=\"24px\"viewBox=\"0 0 24 24\"\n",
              "       width=\"24px\">\n",
              "    <path d=\"M0 0h24v24H0V0z\" fill=\"none\"/>\n",
              "    <path d=\"M18.56 5.44l.94 2.06.94-2.06 2.06-.94-2.06-.94-.94-2.06-.94 2.06-2.06.94zm-11 1L8.5 8.5l.94-2.06 2.06-.94-2.06-.94L8.5 2.5l-.94 2.06-2.06.94zm10 10l.94 2.06.94-2.06 2.06-.94-2.06-.94-.94-2.06-.94 2.06-2.06.94z\"/><path d=\"M17.41 7.96l-1.37-1.37c-.4-.4-.92-.59-1.43-.59-.52 0-1.04.2-1.43.59L10.3 9.45l-7.72 7.72c-.78.78-.78 2.05 0 2.83L4 21.41c.39.39.9.59 1.41.59.51 0 1.02-.2 1.41-.59l7.78-7.78 2.81-2.81c.8-.78.8-2.07 0-2.86zM5.41 20L4 18.59l7.72-7.72 1.47 1.35L5.41 20z\"/>\n",
              "  </svg>\n",
              "      </button>\n",
              "      \n",
              "  <style>\n",
              "    .colab-df-container {\n",
              "      display:flex;\n",
              "      flex-wrap:wrap;\n",
              "      gap: 12px;\n",
              "    }\n",
              "\n",
              "    .colab-df-convert {\n",
              "      background-color: #E8F0FE;\n",
              "      border: none;\n",
              "      border-radius: 50%;\n",
              "      cursor: pointer;\n",
              "      display: none;\n",
              "      fill: #1967D2;\n",
              "      height: 32px;\n",
              "      padding: 0 0 0 0;\n",
              "      width: 32px;\n",
              "    }\n",
              "\n",
              "    .colab-df-convert:hover {\n",
              "      background-color: #E2EBFA;\n",
              "      box-shadow: 0px 1px 2px rgba(60, 64, 67, 0.3), 0px 1px 3px 1px rgba(60, 64, 67, 0.15);\n",
              "      fill: #174EA6;\n",
              "    }\n",
              "\n",
              "    [theme=dark] .colab-df-convert {\n",
              "      background-color: #3B4455;\n",
              "      fill: #D2E3FC;\n",
              "    }\n",
              "\n",
              "    [theme=dark] .colab-df-convert:hover {\n",
              "      background-color: #434B5C;\n",
              "      box-shadow: 0px 1px 3px 1px rgba(0, 0, 0, 0.15);\n",
              "      filter: drop-shadow(0px 1px 2px rgba(0, 0, 0, 0.3));\n",
              "      fill: #FFFFFF;\n",
              "    }\n",
              "  </style>\n",
              "\n",
              "      <script>\n",
              "        const buttonEl =\n",
              "          document.querySelector('#df-18ea1665-55e7-40f4-9764-e99136931e22 button.colab-df-convert');\n",
              "        buttonEl.style.display =\n",
              "          google.colab.kernel.accessAllowed ? 'block' : 'none';\n",
              "\n",
              "        async function convertToInteractive(key) {\n",
              "          const element = document.querySelector('#df-18ea1665-55e7-40f4-9764-e99136931e22');\n",
              "          const dataTable =\n",
              "            await google.colab.kernel.invokeFunction('convertToInteractive',\n",
              "                                                     [key], {});\n",
              "          if (!dataTable) return;\n",
              "\n",
              "          const docLinkHtml = 'Like what you see? Visit the ' +\n",
              "            '<a target=\"_blank\" href=https://colab.research.google.com/notebooks/data_table.ipynb>data table notebook</a>'\n",
              "            + ' to learn more about interactive tables.';\n",
              "          element.innerHTML = '';\n",
              "          dataTable['output_type'] = 'display_data';\n",
              "          await google.colab.output.renderOutput(dataTable, element);\n",
              "          const docLink = document.createElement('div');\n",
              "          docLink.innerHTML = docLinkHtml;\n",
              "          element.appendChild(docLink);\n",
              "        }\n",
              "      </script>\n",
              "    </div>\n",
              "  </div>\n",
              "  "
            ],
            "text/plain": [
              "                                               title  ...        long\n",
              "0  Bán nhà Trần Quang Diệu mới coong đẹp 50m2x6 t...  ...  105.824583\n",
              "1  Bán nhà mặt phố Tây Sơn - 6 tầng. Kinh doanh t...  ...  105.824105\n",
              "2  Bán nhà số 36 Đoàn Kết - phố Khâm Thiên - Đống...  ...  105.833111\n",
              "3  Bán nhà 6 tầng mới kinh doanh mặt ngõ 1194 Đườ...  ...  105.801011\n",
              "4  Bán nhà mặt phố Thái Hà 70m2, 5 tầng, 4.5m mặt...  ...  105.824230\n",
              "\n",
              "[5 rows x 18 columns]"
            ]
          },
          "metadata": {},
          "execution_count": 97
        }
      ],
      "source": [
        "df = pd.read_excel(\"https://s3.ap-southeast-1.amazonaws.com/learn.codegym.vn/media/public/2022/01/08185826/house_price_do%CC%82%CC%81ng-da.xlsx\")\n",
        "df.head()"
      ]
    },
    {
      "cell_type": "code",
      "source": [
        "df.info()"
      ],
      "metadata": {
        "colab": {
          "base_uri": "https://localhost:8080/"
        },
        "id": "crMc6eAu-2Xk",
        "outputId": "77308d51-cfba-43d2-ef6f-af527ac3c41c"
      },
      "execution_count": null,
      "outputs": [
        {
          "output_type": "stream",
          "name": "stdout",
          "text": [
            "<class 'pandas.core.frame.DataFrame'>\n",
            "RangeIndex: 1000 entries, 0 to 999\n",
            "Data columns (total 18 columns):\n",
            " #   Column             Non-Null Count  Dtype         \n",
            "---  ------             --------------  -----         \n",
            " 0   title              1000 non-null   object        \n",
            " 1   address            1000 non-null   object        \n",
            " 2   area               994 non-null    float64       \n",
            " 3   price              944 non-null    float64       \n",
            " 4   postDate           1000 non-null   datetime64[ns]\n",
            " 5   land_certificate   693 non-null    object        \n",
            " 6   house_direction    44 non-null     object        \n",
            " 7   balcony_direction  24 non-null     object        \n",
            " 8   toilet             551 non-null    float64       \n",
            " 9   bedroom            635 non-null    float64       \n",
            " 10  floor              376 non-null    float64       \n",
            " 11  type_of_land       1000 non-null   object        \n",
            " 12  street_name        808 non-null    object        \n",
            " 13  ward_name          802 non-null    object        \n",
            " 14  district_name      1000 non-null   object        \n",
            " 15  city_name          1000 non-null   object        \n",
            " 16  lat                1000 non-null   float64       \n",
            " 17  long               1000 non-null   float64       \n",
            "dtypes: datetime64[ns](1), float64(7), object(10)\n",
            "memory usage: 140.8+ KB\n"
          ]
        }
      ]
    },
    {
      "cell_type": "markdown",
      "source": [
        "# 2. Xử lý dữ liệu khuyết thiếu và dữ liệu ngoại lai"
      ],
      "metadata": {
        "id": "uin8nnbY_ACs"
      }
    },
    {
      "cell_type": "markdown",
      "source": [
        "- 2.1. Xử ly dữ liệu khuyết thiếu"
      ],
      "metadata": {
        "id": "gMhdxLyX_JmL"
      }
    },
    {
      "cell_type": "code",
      "source": [
        "# Lọc các dữ liệu cần thiết của cột \"area\", \"price\", \"bedroom\", \"toilet\", \"type_of_land\"\n",
        "df1 = df.loc[:, [\"area\", \"price\", \"bedroom\", \"toilet\", \"type_of_land\"]]\n",
        "df.head()"
      ],
      "metadata": {
        "colab": {
          "base_uri": "https://localhost:8080/",
          "height": 458
        },
        "id": "y-AevFV3_Ea7",
        "outputId": "65859b76-b9f6-4d50-cb88-075bf4c8c7ef"
      },
      "execution_count": null,
      "outputs": [
        {
          "output_type": "execute_result",
          "data": {
            "text/html": [
              "\n",
              "  <div id=\"df-5a92f3fb-1f6d-4c36-a96d-ba2ad1c37e24\">\n",
              "    <div class=\"colab-df-container\">\n",
              "      <div>\n",
              "<style scoped>\n",
              "    .dataframe tbody tr th:only-of-type {\n",
              "        vertical-align: middle;\n",
              "    }\n",
              "\n",
              "    .dataframe tbody tr th {\n",
              "        vertical-align: top;\n",
              "    }\n",
              "\n",
              "    .dataframe thead th {\n",
              "        text-align: right;\n",
              "    }\n",
              "</style>\n",
              "<table border=\"1\" class=\"dataframe\">\n",
              "  <thead>\n",
              "    <tr style=\"text-align: right;\">\n",
              "      <th></th>\n",
              "      <th>title</th>\n",
              "      <th>address</th>\n",
              "      <th>area</th>\n",
              "      <th>price</th>\n",
              "      <th>postDate</th>\n",
              "      <th>land_certificate</th>\n",
              "      <th>house_direction</th>\n",
              "      <th>balcony_direction</th>\n",
              "      <th>toilet</th>\n",
              "      <th>bedroom</th>\n",
              "      <th>floor</th>\n",
              "      <th>type_of_land</th>\n",
              "      <th>street_name</th>\n",
              "      <th>ward_name</th>\n",
              "      <th>district_name</th>\n",
              "      <th>city_name</th>\n",
              "      <th>lat</th>\n",
              "      <th>long</th>\n",
              "    </tr>\n",
              "  </thead>\n",
              "  <tbody>\n",
              "    <tr>\n",
              "      <th>0</th>\n",
              "      <td>Bán nhà Trần Quang Diệu mới coong đẹp 50m2x6 t...</td>\n",
              "      <td>Đường Trần Quang Diệu, Phường Trung Liệt, Đốn...</td>\n",
              "      <td>50.0</td>\n",
              "      <td>14700.0</td>\n",
              "      <td>2021-01-01</td>\n",
              "      <td>Sổ đỏ</td>\n",
              "      <td>NaN</td>\n",
              "      <td>NaN</td>\n",
              "      <td>4.0</td>\n",
              "      <td>6.0</td>\n",
              "      <td>6.0</td>\n",
              "      <td>Bán nhà riêng\\n</td>\n",
              "      <td>Đường Trần Quang Diệu</td>\n",
              "      <td>Phường Trung Liệt</td>\n",
              "      <td>Quận Đống Đa</td>\n",
              "      <td>Thành phố Hà Nội</td>\n",
              "      <td>21.015698</td>\n",
              "      <td>105.824583</td>\n",
              "    </tr>\n",
              "    <tr>\n",
              "      <th>1</th>\n",
              "      <td>Bán nhà mặt phố Tây Sơn - 6 tầng. Kinh doanh t...</td>\n",
              "      <td>Đường Tây Sơn, Phường Trung Liệt, Đống Đa, Hà...</td>\n",
              "      <td>35.0</td>\n",
              "      <td>12500.0</td>\n",
              "      <td>2021-02-19</td>\n",
              "      <td>Sổ đỏ</td>\n",
              "      <td>NaN</td>\n",
              "      <td>NaN</td>\n",
              "      <td>NaN</td>\n",
              "      <td>NaN</td>\n",
              "      <td>6.0</td>\n",
              "      <td>Bán nhà mặt phố\\n</td>\n",
              "      <td>Phố Trung Liệt</td>\n",
              "      <td>Phường Trung Liệt</td>\n",
              "      <td>Quận Đống Đa</td>\n",
              "      <td>Thành phố Hà Nội</td>\n",
              "      <td>21.008930</td>\n",
              "      <td>105.824105</td>\n",
              "    </tr>\n",
              "    <tr>\n",
              "      <th>2</th>\n",
              "      <td>Bán nhà số 36 Đoàn Kết - phố Khâm Thiên - Đống...</td>\n",
              "      <td>Số 36 Đoàn Kết, Phố Khâm Thiên, Phường Thổ Qu...</td>\n",
              "      <td>57.0</td>\n",
              "      <td>4200.0</td>\n",
              "      <td>2021-03-10</td>\n",
              "      <td>Sổ đỏ</td>\n",
              "      <td>Nam</td>\n",
              "      <td>Nam</td>\n",
              "      <td>3.0</td>\n",
              "      <td>8.0</td>\n",
              "      <td>4.0</td>\n",
              "      <td>Bán nhà riêng\\n</td>\n",
              "      <td>Phố Khâm Thiên</td>\n",
              "      <td>Phường Khâm Thiên</td>\n",
              "      <td>Quận Đống Đa</td>\n",
              "      <td>Thành phố Hà Nội</td>\n",
              "      <td>21.025208</td>\n",
              "      <td>105.833111</td>\n",
              "    </tr>\n",
              "    <tr>\n",
              "      <th>3</th>\n",
              "      <td>Bán nhà 6 tầng mới kinh doanh mặt ngõ 1194 Đườ...</td>\n",
              "      <td>Ngõ 1194, Đường Láng, Phường Láng Thượng, Đố...</td>\n",
              "      <td>62.0</td>\n",
              "      <td>11000.0</td>\n",
              "      <td>2021-03-13</td>\n",
              "      <td>Sổ đỏ</td>\n",
              "      <td>Đông</td>\n",
              "      <td>Đông-Nam</td>\n",
              "      <td>6.0</td>\n",
              "      <td>5.0</td>\n",
              "      <td>6.0</td>\n",
              "      <td>Bán nhà riêng\\n</td>\n",
              "      <td>Đường Láng Thượng</td>\n",
              "      <td>Phường Láng Thượng</td>\n",
              "      <td>Quận Đống Đa</td>\n",
              "      <td>Thành phố Hà Nội</td>\n",
              "      <td>21.025379</td>\n",
              "      <td>105.801011</td>\n",
              "    </tr>\n",
              "    <tr>\n",
              "      <th>4</th>\n",
              "      <td>Bán nhà mặt phố Thái Hà 70m2, 5 tầng, 4.5m mặt...</td>\n",
              "      <td>Phố Thái Hà, Phường Trung Liệt, Đống Đa, Hà Nội</td>\n",
              "      <td>70.0</td>\n",
              "      <td>36000.0</td>\n",
              "      <td>2021-03-13</td>\n",
              "      <td>Sổ đỏ</td>\n",
              "      <td>NaN</td>\n",
              "      <td>NaN</td>\n",
              "      <td>NaN</td>\n",
              "      <td>6.0</td>\n",
              "      <td>5.0</td>\n",
              "      <td>Bán nhà mặt phố\\n</td>\n",
              "      <td>Phố Trung Liệt</td>\n",
              "      <td>Phường Trung Liệt</td>\n",
              "      <td>Quận Đống Đa</td>\n",
              "      <td>Thành phố Hà Nội</td>\n",
              "      <td>21.009239</td>\n",
              "      <td>105.824230</td>\n",
              "    </tr>\n",
              "  </tbody>\n",
              "</table>\n",
              "</div>\n",
              "      <button class=\"colab-df-convert\" onclick=\"convertToInteractive('df-5a92f3fb-1f6d-4c36-a96d-ba2ad1c37e24')\"\n",
              "              title=\"Convert this dataframe to an interactive table.\"\n",
              "              style=\"display:none;\">\n",
              "        \n",
              "  <svg xmlns=\"http://www.w3.org/2000/svg\" height=\"24px\"viewBox=\"0 0 24 24\"\n",
              "       width=\"24px\">\n",
              "    <path d=\"M0 0h24v24H0V0z\" fill=\"none\"/>\n",
              "    <path d=\"M18.56 5.44l.94 2.06.94-2.06 2.06-.94-2.06-.94-.94-2.06-.94 2.06-2.06.94zm-11 1L8.5 8.5l.94-2.06 2.06-.94-2.06-.94L8.5 2.5l-.94 2.06-2.06.94zm10 10l.94 2.06.94-2.06 2.06-.94-2.06-.94-.94-2.06-.94 2.06-2.06.94z\"/><path d=\"M17.41 7.96l-1.37-1.37c-.4-.4-.92-.59-1.43-.59-.52 0-1.04.2-1.43.59L10.3 9.45l-7.72 7.72c-.78.78-.78 2.05 0 2.83L4 21.41c.39.39.9.59 1.41.59.51 0 1.02-.2 1.41-.59l7.78-7.78 2.81-2.81c.8-.78.8-2.07 0-2.86zM5.41 20L4 18.59l7.72-7.72 1.47 1.35L5.41 20z\"/>\n",
              "  </svg>\n",
              "      </button>\n",
              "      \n",
              "  <style>\n",
              "    .colab-df-container {\n",
              "      display:flex;\n",
              "      flex-wrap:wrap;\n",
              "      gap: 12px;\n",
              "    }\n",
              "\n",
              "    .colab-df-convert {\n",
              "      background-color: #E8F0FE;\n",
              "      border: none;\n",
              "      border-radius: 50%;\n",
              "      cursor: pointer;\n",
              "      display: none;\n",
              "      fill: #1967D2;\n",
              "      height: 32px;\n",
              "      padding: 0 0 0 0;\n",
              "      width: 32px;\n",
              "    }\n",
              "\n",
              "    .colab-df-convert:hover {\n",
              "      background-color: #E2EBFA;\n",
              "      box-shadow: 0px 1px 2px rgba(60, 64, 67, 0.3), 0px 1px 3px 1px rgba(60, 64, 67, 0.15);\n",
              "      fill: #174EA6;\n",
              "    }\n",
              "\n",
              "    [theme=dark] .colab-df-convert {\n",
              "      background-color: #3B4455;\n",
              "      fill: #D2E3FC;\n",
              "    }\n",
              "\n",
              "    [theme=dark] .colab-df-convert:hover {\n",
              "      background-color: #434B5C;\n",
              "      box-shadow: 0px 1px 3px 1px rgba(0, 0, 0, 0.15);\n",
              "      filter: drop-shadow(0px 1px 2px rgba(0, 0, 0, 0.3));\n",
              "      fill: #FFFFFF;\n",
              "    }\n",
              "  </style>\n",
              "\n",
              "      <script>\n",
              "        const buttonEl =\n",
              "          document.querySelector('#df-5a92f3fb-1f6d-4c36-a96d-ba2ad1c37e24 button.colab-df-convert');\n",
              "        buttonEl.style.display =\n",
              "          google.colab.kernel.accessAllowed ? 'block' : 'none';\n",
              "\n",
              "        async function convertToInteractive(key) {\n",
              "          const element = document.querySelector('#df-5a92f3fb-1f6d-4c36-a96d-ba2ad1c37e24');\n",
              "          const dataTable =\n",
              "            await google.colab.kernel.invokeFunction('convertToInteractive',\n",
              "                                                     [key], {});\n",
              "          if (!dataTable) return;\n",
              "\n",
              "          const docLinkHtml = 'Like what you see? Visit the ' +\n",
              "            '<a target=\"_blank\" href=https://colab.research.google.com/notebooks/data_table.ipynb>data table notebook</a>'\n",
              "            + ' to learn more about interactive tables.';\n",
              "          element.innerHTML = '';\n",
              "          dataTable['output_type'] = 'display_data';\n",
              "          await google.colab.output.renderOutput(dataTable, element);\n",
              "          const docLink = document.createElement('div');\n",
              "          docLink.innerHTML = docLinkHtml;\n",
              "          element.appendChild(docLink);\n",
              "        }\n",
              "      </script>\n",
              "    </div>\n",
              "  </div>\n",
              "  "
            ],
            "text/plain": [
              "                                               title  ...        long\n",
              "0  Bán nhà Trần Quang Diệu mới coong đẹp 50m2x6 t...  ...  105.824583\n",
              "1  Bán nhà mặt phố Tây Sơn - 6 tầng. Kinh doanh t...  ...  105.824105\n",
              "2  Bán nhà số 36 Đoàn Kết - phố Khâm Thiên - Đống...  ...  105.833111\n",
              "3  Bán nhà 6 tầng mới kinh doanh mặt ngõ 1194 Đườ...  ...  105.801011\n",
              "4  Bán nhà mặt phố Thái Hà 70m2, 5 tầng, 4.5m mặt...  ...  105.824230\n",
              "\n",
              "[5 rows x 18 columns]"
            ]
          },
          "metadata": {},
          "execution_count": 99
        }
      ]
    },
    {
      "cell_type": "code",
      "source": [
        "df1.info()"
      ],
      "metadata": {
        "colab": {
          "base_uri": "https://localhost:8080/"
        },
        "id": "9VcBZrf0-4j4",
        "outputId": "b7253879-227b-40ee-dbe9-c93fe48c6039"
      },
      "execution_count": null,
      "outputs": [
        {
          "output_type": "stream",
          "name": "stdout",
          "text": [
            "<class 'pandas.core.frame.DataFrame'>\n",
            "RangeIndex: 1000 entries, 0 to 999\n",
            "Data columns (total 5 columns):\n",
            " #   Column        Non-Null Count  Dtype  \n",
            "---  ------        --------------  -----  \n",
            " 0   area          994 non-null    float64\n",
            " 1   price         944 non-null    float64\n",
            " 2   bedroom       635 non-null    float64\n",
            " 3   toilet        551 non-null    float64\n",
            " 4   type_of_land  1000 non-null   object \n",
            "dtypes: float64(4), object(1)\n",
            "memory usage: 39.2+ KB\n"
          ]
        }
      ]
    },
    {
      "cell_type": "code",
      "source": [
        "# Xoá các dòng dữ liệu không có dữ liệu area và price\n",
        "df1.dropna(subset = [\"area\", \"price\"], inplace = True)"
      ],
      "metadata": {
        "id": "jbY6V3-Q_Q5k"
      },
      "execution_count": null,
      "outputs": []
    },
    {
      "cell_type": "code",
      "source": [
        "# Thay thế giá trị khuyết thiếu bằng giá trị nội suy theo các cột\n",
        "df1 = df1.interpolate(method = \"linear\", axis = 0).ffill().bfill()\n",
        "df1 = df1.round(0)"
      ],
      "metadata": {
        "id": "kh9ahqXo_UVF"
      },
      "execution_count": null,
      "outputs": []
    },
    {
      "cell_type": "code",
      "source": [
        "df1[\"type_of_land\"].replace('Bán nhà riêng\\n ', 'Bán nhà riêng', inplace = True)\n",
        "df1[\"type_of_land\"].replace('Bán nhà mặt phố\\n ', 'Bán nhà mặt phố', inplace = True)\n",
        "df1[\"type_of_land\"].replace('Bất động sản khác\\n ', 'Bất động sản khác', inplace = True)\n",
        "df1[\"type_of_land\"].unique()"
      ],
      "metadata": {
        "colab": {
          "base_uri": "https://localhost:8080/"
        },
        "id": "0BnCv7HOCeon",
        "outputId": "29977aaf-aa79-43b5-b125-fb97d9f81843"
      },
      "execution_count": null,
      "outputs": [
        {
          "output_type": "execute_result",
          "data": {
            "text/plain": [
              "array(['Bán nhà riêng', 'Bán nhà mặt phố', 'Tập thể, cư xá', 'Chung cư',\n",
              "       'Bất động sản khác', 'Đất thổ cư'], dtype=object)"
            ]
          },
          "metadata": {},
          "execution_count": 103
        }
      ]
    },
    {
      "cell_type": "code",
      "source": [
        "df1.info()"
      ],
      "metadata": {
        "colab": {
          "base_uri": "https://localhost:8080/"
        },
        "id": "WFSejcIp_WTd",
        "outputId": "60812132-ef8c-44c7-e48c-d82501ee6ec4"
      },
      "execution_count": null,
      "outputs": [
        {
          "output_type": "stream",
          "name": "stdout",
          "text": [
            "<class 'pandas.core.frame.DataFrame'>\n",
            "Int64Index: 942 entries, 0 to 999\n",
            "Data columns (total 5 columns):\n",
            " #   Column        Non-Null Count  Dtype  \n",
            "---  ------        --------------  -----  \n",
            " 0   area          942 non-null    float64\n",
            " 1   price         942 non-null    float64\n",
            " 2   bedroom       942 non-null    float64\n",
            " 3   toilet        942 non-null    float64\n",
            " 4   type_of_land  942 non-null    object \n",
            "dtypes: float64(4), object(1)\n",
            "memory usage: 44.2+ KB\n"
          ]
        }
      ]
    },
    {
      "cell_type": "markdown",
      "source": [
        "- 2.1. Xử lý giá trị ngoại lai theo phương pháp Z-Score"
      ],
      "metadata": {
        "id": "ItCEzSFn_ZYk"
      }
    },
    {
      "cell_type": "code",
      "source": [
        "# Xoá các dòng có dữ liệu area bằng 0\n",
        "df1 = df1[df1.area > 0]\n",
        "df1.reset_index(drop=True, inplace=True)"
      ],
      "metadata": {
        "id": "S0i-uL2B_YB7"
      },
      "execution_count": null,
      "outputs": []
    },
    {
      "cell_type": "code",
      "source": [
        "z = np.abs(stats.zscore(df1.area))"
      ],
      "metadata": {
        "id": "Ni4pyVN__iSw"
      },
      "execution_count": null,
      "outputs": []
    },
    {
      "cell_type": "code",
      "source": [
        "threshold = 1.0\n",
        "index = np.where((z > 2 * z.min()) & (z < threshold))"
      ],
      "metadata": {
        "id": "uu0UewEX_2We"
      },
      "execution_count": null,
      "outputs": []
    },
    {
      "cell_type": "code",
      "source": [
        "df2 = df1.loc[index[0], :]"
      ],
      "metadata": {
        "id": "3YJUi-CM_4bi"
      },
      "execution_count": null,
      "outputs": []
    },
    {
      "cell_type": "code",
      "source": [
        "df2[\"UnitPrice\"] = df2.price / df2.area"
      ],
      "metadata": {
        "id": "tKuxxz9C_7Ef"
      },
      "execution_count": null,
      "outputs": []
    },
    {
      "cell_type": "code",
      "source": [
        "df2.area.min()"
      ],
      "metadata": {
        "colab": {
          "base_uri": "https://localhost:8080/"
        },
        "id": "QH6AI1UN_9H6",
        "outputId": "2ddc0d23-8564-405f-a02d-df9b05d1cb7e"
      },
      "execution_count": null,
      "outputs": [
        {
          "output_type": "execute_result",
          "data": {
            "text/plain": [
              "6.0"
            ]
          },
          "metadata": {},
          "execution_count": 110
        }
      ]
    },
    {
      "cell_type": "markdown",
      "source": [
        "# 3. Phân tích mối liên hệ giữa diện tích với giá nhà. Đồng thời, giữa số phòng ngủ với giá nhà và giữa số toilet với giá nhà"
      ],
      "metadata": {
        "id": "qkTXYS5oAAnk"
      }
    },
    {
      "cell_type": "code",
      "source": [
        "df2.info()"
      ],
      "metadata": {
        "colab": {
          "base_uri": "https://localhost:8080/"
        },
        "id": "hV4yKSJ7AcdL",
        "outputId": "c7e7af49-be02-4325-e391-01d3568cb863"
      },
      "execution_count": null,
      "outputs": [
        {
          "output_type": "stream",
          "name": "stdout",
          "text": [
            "<class 'pandas.core.frame.DataFrame'>\n",
            "Int64Index: 912 entries, 0 to 925\n",
            "Data columns (total 6 columns):\n",
            " #   Column        Non-Null Count  Dtype  \n",
            "---  ------        --------------  -----  \n",
            " 0   area          912 non-null    float64\n",
            " 1   price         912 non-null    float64\n",
            " 2   bedroom       912 non-null    float64\n",
            " 3   toilet        912 non-null    float64\n",
            " 4   type_of_land  912 non-null    object \n",
            " 5   UnitPrice     912 non-null    float64\n",
            "dtypes: float64(5), object(1)\n",
            "memory usage: 49.9+ KB\n"
          ]
        }
      ]
    },
    {
      "cell_type": "code",
      "source": [
        "# Chia đồ thị làm 3 phần nằm ngang\n",
        "fig, ax = plt.subplots(1, 3)\n",
        "fig.set_figheight(8)\n",
        "fig.set_figwidth(18)\n",
        "\n",
        "# Vẽ đồ thị mối quan hệ giữa giá nhà và diện tích nhà\n",
        "ax[0].scatter(df2.area, df2.price)\n",
        "ax[0].set_title(\"Mối quan hệ giữa giá nhà và diện tích nhà\", fontsize = 14)\n",
        "ax[0].set_xlabel(\"Diện tích nhà (m2)\", fontsize = 14)\n",
        "ax[0].set_ylabel(\"Giá nhà (triệu VND)\", fontsize = 14)\n",
        "\n",
        "# Vẽ đồ thị mối quan hệ giữa số phòng ngủ với giá nhà\n",
        "ax[1].scatter(df2.bedroom, df2.price)\n",
        "ax[1].set_title(\"Mối quan hệ giữa giá nhà và số phòng ngủ\", fontsize = 14)\n",
        "ax[1].set_xlabel(\"Số phòng ngủ\", fontsize = 14)\n",
        "\n",
        "# Vẽ đồ thị mối quan hệ giữa số phòng toilet với giá nhà\n",
        "ax[2].scatter(df2.toilet, df2.price)\n",
        "ax[2].set_title(\"Mối quan hệ giữa giá nhà và số toilet\", fontsize = 14)\n",
        "ax[2].set_xlabel(\"Số toilet\", fontsize = 14)\n",
        "\n",
        "plt.show()"
      ],
      "metadata": {
        "colab": {
          "base_uri": "https://localhost:8080/",
          "height": 521
        },
        "id": "BzWftDkY__Qq",
        "outputId": "7a94f008-f60a-43cc-aa88-ad1e69d018da"
      },
      "execution_count": null,
      "outputs": [
        {
          "output_type": "display_data",
          "data": {
            "image/png": "[encoded data removed]",
            "text/plain": [
              "<Figure size 1296x576 with 3 Axes>"
            ]
          },
          "metadata": {
            "needs_background": "light"
          }
        }
      ]
    },
    {
      "cell_type": "markdown",
      "source": [
        "# 4. So sánh giá nhà trung bình trên 1 m2 giữa các hình thức nhà (type_of_land). Đồng thời thể hiện tỉ lệ % bài đăng (bản ghi) giữa các hình thức nhà(type_of_land)"
      ],
      "metadata": {
        "id": "xKEYLk1LCF88"
      }
    },
    {
      "cell_type": "code",
      "source": [
        "df2.info()"
      ],
      "metadata": {
        "colab": {
          "base_uri": "https://localhost:8080/"
        },
        "id": "oCtoXhLtCFFs",
        "outputId": "c0be480c-a500-4cc0-82d2-9e29bba9b234"
      },
      "execution_count": null,
      "outputs": [
        {
          "output_type": "stream",
          "name": "stdout",
          "text": [
            "<class 'pandas.core.frame.DataFrame'>\n",
            "Int64Index: 912 entries, 0 to 925\n",
            "Data columns (total 6 columns):\n",
            " #   Column        Non-Null Count  Dtype  \n",
            "---  ------        --------------  -----  \n",
            " 0   area          912 non-null    float64\n",
            " 1   price         912 non-null    float64\n",
            " 2   bedroom       912 non-null    float64\n",
            " 3   toilet        912 non-null    float64\n",
            " 4   type_of_land  912 non-null    object \n",
            " 5   UnitPrice     912 non-null    float64\n",
            "dtypes: float64(5), object(1)\n",
            "memory usage: 49.9+ KB\n"
          ]
        }
      ]
    },
    {
      "cell_type": "code",
      "source": [
        "df2.type_of_land.unique()"
      ],
      "metadata": {
        "colab": {
          "base_uri": "https://localhost:8080/"
        },
        "id": "H0naMA5jCTlw",
        "outputId": "c550691c-304c-4e1d-9aeb-6ea3fbadd719"
      },
      "execution_count": null,
      "outputs": [
        {
          "output_type": "execute_result",
          "data": {
            "text/plain": [
              "array(['Bán nhà riêng', 'Bán nhà mặt phố', 'Tập thể, cư xá', 'Chung cư',\n",
              "       'Bất động sản khác', 'Đất thổ cư'], dtype=object)"
            ]
          },
          "metadata": {},
          "execution_count": 114
        }
      ]
    },
    {
      "cell_type": "code",
      "source": [
        "# Tính giá trị trung bình trên m2 giữa các hình thức nhà\n",
        "df3 = df2.groupby([\"type_of_land\"]).mean()\n",
        "df3.reset_index(inplace = True)\n",
        "df3"
      ],
      "metadata": {
        "colab": {
          "base_uri": "https://localhost:8080/",
          "height": 238
        },
        "id": "9OCHoJOaCYDO",
        "outputId": "7b8bfe6c-11a5-4d7c-d6b1-b0b9aca10054"
      },
      "execution_count": null,
      "outputs": [
        {
          "output_type": "execute_result",
          "data": {
            "text/html": [
              "\n",
              "  <div id=\"df-98ab08aa-c70f-47ca-9aa0-6670f5598397\">\n",
              "    <div class=\"colab-df-container\">\n",
              "      <div>\n",
              "<style scoped>\n",
              "    .dataframe tbody tr th:only-of-type {\n",
              "        vertical-align: middle;\n",
              "    }\n",
              "\n",
              "    .dataframe tbody tr th {\n",
              "        vertical-align: top;\n",
              "    }\n",
              "\n",
              "    .dataframe thead th {\n",
              "        text-align: right;\n",
              "    }\n",
              "</style>\n",
              "<table border=\"1\" class=\"dataframe\">\n",
              "  <thead>\n",
              "    <tr style=\"text-align: right;\">\n",
              "      <th></th>\n",
              "      <th>type_of_land</th>\n",
              "      <th>area</th>\n",
              "      <th>price</th>\n",
              "      <th>bedroom</th>\n",
              "      <th>toilet</th>\n",
              "      <th>UnitPrice</th>\n",
              "    </tr>\n",
              "  </thead>\n",
              "  <tbody>\n",
              "    <tr>\n",
              "      <th>0</th>\n",
              "      <td>Bán nhà mặt phố</td>\n",
              "      <td>110.333333</td>\n",
              "      <td>41057.587963</td>\n",
              "      <td>4.550926</td>\n",
              "      <td>4.541667</td>\n",
              "      <td>356.538095</td>\n",
              "    </tr>\n",
              "    <tr>\n",
              "      <th>1</th>\n",
              "      <td>Bán nhà riêng</td>\n",
              "      <td>101.412523</td>\n",
              "      <td>8275.114180</td>\n",
              "      <td>3.998158</td>\n",
              "      <td>4.027624</td>\n",
              "      <td>120.288530</td>\n",
              "    </tr>\n",
              "    <tr>\n",
              "      <th>2</th>\n",
              "      <td>Bất động sản khác</td>\n",
              "      <td>137.611111</td>\n",
              "      <td>22265.000000</td>\n",
              "      <td>4.500000</td>\n",
              "      <td>4.333333</td>\n",
              "      <td>209.912825</td>\n",
              "    </tr>\n",
              "    <tr>\n",
              "      <th>3</th>\n",
              "      <td>Chung cư</td>\n",
              "      <td>61.655172</td>\n",
              "      <td>1950.000000</td>\n",
              "      <td>1.827586</td>\n",
              "      <td>1.431034</td>\n",
              "      <td>26.623608</td>\n",
              "    </tr>\n",
              "    <tr>\n",
              "      <th>4</th>\n",
              "      <td>Tập thể, cư xá</td>\n",
              "      <td>66.101449</td>\n",
              "      <td>2094.637681</td>\n",
              "      <td>2.043478</td>\n",
              "      <td>1.420290</td>\n",
              "      <td>33.353309</td>\n",
              "    </tr>\n",
              "    <tr>\n",
              "      <th>5</th>\n",
              "      <td>Đất thổ cư</td>\n",
              "      <td>80.750000</td>\n",
              "      <td>10585.000000</td>\n",
              "      <td>4.125000</td>\n",
              "      <td>3.625000</td>\n",
              "      <td>133.153612</td>\n",
              "    </tr>\n",
              "  </tbody>\n",
              "</table>\n",
              "</div>\n",
              "      <button class=\"colab-df-convert\" onclick=\"convertToInteractive('df-98ab08aa-c70f-47ca-9aa0-6670f5598397')\"\n",
              "              title=\"Convert this dataframe to an interactive table.\"\n",
              "              style=\"display:none;\">\n",
              "        \n",
              "  <svg xmlns=\"http://www.w3.org/2000/svg\" height=\"24px\"viewBox=\"0 0 24 24\"\n",
              "       width=\"24px\">\n",
              "    <path d=\"M0 0h24v24H0V0z\" fill=\"none\"/>\n",
              "    <path d=\"M18.56 5.44l.94 2.06.94-2.06 2.06-.94-2.06-.94-.94-2.06-.94 2.06-2.06.94zm-11 1L8.5 8.5l.94-2.06 2.06-.94-2.06-.94L8.5 2.5l-.94 2.06-2.06.94zm10 10l.94 2.06.94-2.06 2.06-.94-2.06-.94-.94-2.06-.94 2.06-2.06.94z\"/><path d=\"M17.41 7.96l-1.37-1.37c-.4-.4-.92-.59-1.43-.59-.52 0-1.04.2-1.43.59L10.3 9.45l-7.72 7.72c-.78.78-.78 2.05 0 2.83L4 21.41c.39.39.9.59 1.41.59.51 0 1.02-.2 1.41-.59l7.78-7.78 2.81-2.81c.8-.78.8-2.07 0-2.86zM5.41 20L4 18.59l7.72-7.72 1.47 1.35L5.41 20z\"/>\n",
              "  </svg>\n",
              "      </button>\n",
              "      \n",
              "  <style>\n",
              "    .colab-df-container {\n",
              "      display:flex;\n",
              "      flex-wrap:wrap;\n",
              "      gap: 12px;\n",
              "    }\n",
              "\n",
              "    .colab-df-convert {\n",
              "      background-color: #E8F0FE;\n",
              "      border: none;\n",
              "      border-radius: 50%;\n",
              "      cursor: pointer;\n",
              "      display: none;\n",
              "      fill: #1967D2;\n",
              "      height: 32px;\n",
              "      padding: 0 0 0 0;\n",
              "      width: 32px;\n",
              "    }\n",
              "\n",
              "    .colab-df-convert:hover {\n",
              "      background-color: #E2EBFA;\n",
              "      box-shadow: 0px 1px 2px rgba(60, 64, 67, 0.3), 0px 1px 3px 1px rgba(60, 64, 67, 0.15);\n",
              "      fill: #174EA6;\n",
              "    }\n",
              "\n",
              "    [theme=dark] .colab-df-convert {\n",
              "      background-color: #3B4455;\n",
              "      fill: #D2E3FC;\n",
              "    }\n",
              "\n",
              "    [theme=dark] .colab-df-convert:hover {\n",
              "      background-color: #434B5C;\n",
              "      box-shadow: 0px 1px 3px 1px rgba(0, 0, 0, 0.15);\n",
              "      filter: drop-shadow(0px 1px 2px rgba(0, 0, 0, 0.3));\n",
              "      fill: #FFFFFF;\n",
              "    }\n",
              "  </style>\n",
              "\n",
              "      <script>\n",
              "        const buttonEl =\n",
              "          document.querySelector('#df-98ab08aa-c70f-47ca-9aa0-6670f5598397 button.colab-df-convert');\n",
              "        buttonEl.style.display =\n",
              "          google.colab.kernel.accessAllowed ? 'block' : 'none';\n",
              "\n",
              "        async function convertToInteractive(key) {\n",
              "          const element = document.querySelector('#df-98ab08aa-c70f-47ca-9aa0-6670f5598397');\n",
              "          const dataTable =\n",
              "            await google.colab.kernel.invokeFunction('convertToInteractive',\n",
              "                                                     [key], {});\n",
              "          if (!dataTable) return;\n",
              "\n",
              "          const docLinkHtml = 'Like what you see? Visit the ' +\n",
              "            '<a target=\"_blank\" href=https://colab.research.google.com/notebooks/data_table.ipynb>data table notebook</a>'\n",
              "            + ' to learn more about interactive tables.';\n",
              "          element.innerHTML = '';\n",
              "          dataTable['output_type'] = 'display_data';\n",
              "          await google.colab.output.renderOutput(dataTable, element);\n",
              "          const docLink = document.createElement('div');\n",
              "          docLink.innerHTML = docLinkHtml;\n",
              "          element.appendChild(docLink);\n",
              "        }\n",
              "      </script>\n",
              "    </div>\n",
              "  </div>\n",
              "  "
            ],
            "text/plain": [
              "        type_of_land        area         price   bedroom    toilet   UnitPrice\n",
              "0    Bán nhà mặt phố  110.333333  41057.587963  4.550926  4.541667  356.538095\n",
              "1      Bán nhà riêng  101.412523   8275.114180  3.998158  4.027624  120.288530\n",
              "2  Bất động sản khác  137.611111  22265.000000  4.500000  4.333333  209.912825\n",
              "3           Chung cư   61.655172   1950.000000  1.827586  1.431034   26.623608\n",
              "4     Tập thể, cư xá   66.101449   2094.637681  2.043478  1.420290   33.353309\n",
              "5         Đất thổ cư   80.750000  10585.000000  4.125000  3.625000  133.153612"
            ]
          },
          "metadata": {},
          "execution_count": 115
        }
      ]
    },
    {
      "cell_type": "code",
      "source": [
        "# Tổng số bài đăng giữa các hình thức nhà\n",
        "df4 = df2.groupby([\"type_of_land\"]).count()\n",
        "df4.reset_index(inplace = True)\n",
        "df4"
      ],
      "metadata": {
        "colab": {
          "base_uri": "https://localhost:8080/",
          "height": 238
        },
        "id": "sZZYToZnDUhh",
        "outputId": "d5cead9a-0e8d-4212-f9f5-a291db369c4f"
      },
      "execution_count": null,
      "outputs": [
        {
          "output_type": "execute_result",
          "data": {
            "text/html": [
              "\n",
              "  <div id=\"df-0b8c2d8a-1a17-4255-bab0-11bad5fdfab6\">\n",
              "    <div class=\"colab-df-container\">\n",
              "      <div>\n",
              "<style scoped>\n",
              "    .dataframe tbody tr th:only-of-type {\n",
              "        vertical-align: middle;\n",
              "    }\n",
              "\n",
              "    .dataframe tbody tr th {\n",
              "        vertical-align: top;\n",
              "    }\n",
              "\n",
              "    .dataframe thead th {\n",
              "        text-align: right;\n",
              "    }\n",
              "</style>\n",
              "<table border=\"1\" class=\"dataframe\">\n",
              "  <thead>\n",
              "    <tr style=\"text-align: right;\">\n",
              "      <th></th>\n",
              "      <th>type_of_land</th>\n",
              "      <th>area</th>\n",
              "      <th>price</th>\n",
              "      <th>bedroom</th>\n",
              "      <th>toilet</th>\n",
              "      <th>UnitPrice</th>\n",
              "    </tr>\n",
              "  </thead>\n",
              "  <tbody>\n",
              "    <tr>\n",
              "      <th>0</th>\n",
              "      <td>Bán nhà mặt phố</td>\n",
              "      <td>216</td>\n",
              "      <td>216</td>\n",
              "      <td>216</td>\n",
              "      <td>216</td>\n",
              "      <td>216</td>\n",
              "    </tr>\n",
              "    <tr>\n",
              "      <th>1</th>\n",
              "      <td>Bán nhà riêng</td>\n",
              "      <td>543</td>\n",
              "      <td>543</td>\n",
              "      <td>543</td>\n",
              "      <td>543</td>\n",
              "      <td>543</td>\n",
              "    </tr>\n",
              "    <tr>\n",
              "      <th>2</th>\n",
              "      <td>Bất động sản khác</td>\n",
              "      <td>18</td>\n",
              "      <td>18</td>\n",
              "      <td>18</td>\n",
              "      <td>18</td>\n",
              "      <td>18</td>\n",
              "    </tr>\n",
              "    <tr>\n",
              "      <th>3</th>\n",
              "      <td>Chung cư</td>\n",
              "      <td>58</td>\n",
              "      <td>58</td>\n",
              "      <td>58</td>\n",
              "      <td>58</td>\n",
              "      <td>58</td>\n",
              "    </tr>\n",
              "    <tr>\n",
              "      <th>4</th>\n",
              "      <td>Tập thể, cư xá</td>\n",
              "      <td>69</td>\n",
              "      <td>69</td>\n",
              "      <td>69</td>\n",
              "      <td>69</td>\n",
              "      <td>69</td>\n",
              "    </tr>\n",
              "    <tr>\n",
              "      <th>5</th>\n",
              "      <td>Đất thổ cư</td>\n",
              "      <td>8</td>\n",
              "      <td>8</td>\n",
              "      <td>8</td>\n",
              "      <td>8</td>\n",
              "      <td>8</td>\n",
              "    </tr>\n",
              "  </tbody>\n",
              "</table>\n",
              "</div>\n",
              "      <button class=\"colab-df-convert\" onclick=\"convertToInteractive('df-0b8c2d8a-1a17-4255-bab0-11bad5fdfab6')\"\n",
              "              title=\"Convert this dataframe to an interactive table.\"\n",
              "              style=\"display:none;\">\n",
              "        \n",
              "  <svg xmlns=\"http://www.w3.org/2000/svg\" height=\"24px\"viewBox=\"0 0 24 24\"\n",
              "       width=\"24px\">\n",
              "    <path d=\"M0 0h24v24H0V0z\" fill=\"none\"/>\n",
              "    <path d=\"M18.56 5.44l.94 2.06.94-2.06 2.06-.94-2.06-.94-.94-2.06-.94 2.06-2.06.94zm-11 1L8.5 8.5l.94-2.06 2.06-.94-2.06-.94L8.5 2.5l-.94 2.06-2.06.94zm10 10l.94 2.06.94-2.06 2.06-.94-2.06-.94-.94-2.06-.94 2.06-2.06.94z\"/><path d=\"M17.41 7.96l-1.37-1.37c-.4-.4-.92-.59-1.43-.59-.52 0-1.04.2-1.43.59L10.3 9.45l-7.72 7.72c-.78.78-.78 2.05 0 2.83L4 21.41c.39.39.9.59 1.41.59.51 0 1.02-.2 1.41-.59l7.78-7.78 2.81-2.81c.8-.78.8-2.07 0-2.86zM5.41 20L4 18.59l7.72-7.72 1.47 1.35L5.41 20z\"/>\n",
              "  </svg>\n",
              "      </button>\n",
              "      \n",
              "  <style>\n",
              "    .colab-df-container {\n",
              "      display:flex;\n",
              "      flex-wrap:wrap;\n",
              "      gap: 12px;\n",
              "    }\n",
              "\n",
              "    .colab-df-convert {\n",
              "      background-color: #E8F0FE;\n",
              "      border: none;\n",
              "      border-radius: 50%;\n",
              "      cursor: pointer;\n",
              "      display: none;\n",
              "      fill: #1967D2;\n",
              "      height: 32px;\n",
              "      padding: 0 0 0 0;\n",
              "      width: 32px;\n",
              "    }\n",
              "\n",
              "    .colab-df-convert:hover {\n",
              "      background-color: #E2EBFA;\n",
              "      box-shadow: 0px 1px 2px rgba(60, 64, 67, 0.3), 0px 1px 3px 1px rgba(60, 64, 67, 0.15);\n",
              "      fill: #174EA6;\n",
              "    }\n",
              "\n",
              "    [theme=dark] .colab-df-convert {\n",
              "      background-color: #3B4455;\n",
              "      fill: #D2E3FC;\n",
              "    }\n",
              "\n",
              "    [theme=dark] .colab-df-convert:hover {\n",
              "      background-color: #434B5C;\n",
              "      box-shadow: 0px 1px 3px 1px rgba(0, 0, 0, 0.15);\n",
              "      filter: drop-shadow(0px 1px 2px rgba(0, 0, 0, 0.3));\n",
              "      fill: #FFFFFF;\n",
              "    }\n",
              "  </style>\n",
              "\n",
              "      <script>\n",
              "        const buttonEl =\n",
              "          document.querySelector('#df-0b8c2d8a-1a17-4255-bab0-11bad5fdfab6 button.colab-df-convert');\n",
              "        buttonEl.style.display =\n",
              "          google.colab.kernel.accessAllowed ? 'block' : 'none';\n",
              "\n",
              "        async function convertToInteractive(key) {\n",
              "          const element = document.querySelector('#df-0b8c2d8a-1a17-4255-bab0-11bad5fdfab6');\n",
              "          const dataTable =\n",
              "            await google.colab.kernel.invokeFunction('convertToInteractive',\n",
              "                                                     [key], {});\n",
              "          if (!dataTable) return;\n",
              "\n",
              "          const docLinkHtml = 'Like what you see? Visit the ' +\n",
              "            '<a target=\"_blank\" href=https://colab.research.google.com/notebooks/data_table.ipynb>data table notebook</a>'\n",
              "            + ' to learn more about interactive tables.';\n",
              "          element.innerHTML = '';\n",
              "          dataTable['output_type'] = 'display_data';\n",
              "          await google.colab.output.renderOutput(dataTable, element);\n",
              "          const docLink = document.createElement('div');\n",
              "          docLink.innerHTML = docLinkHtml;\n",
              "          element.appendChild(docLink);\n",
              "        }\n",
              "      </script>\n",
              "    </div>\n",
              "  </div>\n",
              "  "
            ],
            "text/plain": [
              "        type_of_land  area  price  bedroom  toilet  UnitPrice\n",
              "0    Bán nhà mặt phố   216    216      216     216        216\n",
              "1      Bán nhà riêng   543    543      543     543        543\n",
              "2  Bất động sản khác    18     18       18      18         18\n",
              "3           Chung cư    58     58       58      58         58\n",
              "4     Tập thể, cư xá    69     69       69      69         69\n",
              "5         Đất thổ cư     8      8        8       8          8"
            ]
          },
          "metadata": {},
          "execution_count": 116
        }
      ]
    },
    {
      "cell_type": "code",
      "source": [
        "# Vẽ biểu đồ\n",
        "# Chia đồ thị làm 2 phần nằm ngang\n",
        "fig, ax = plt.subplots(1, 2)\n",
        "fig.set_figheight(8)\n",
        "fig.set_figwidth(18)\n",
        "\n",
        "# Vẽ đồ thị so sánh giá nhà trung bình trên m2 giữa các hình thức nhà\n",
        "ax[0].bar(df3.type_of_land, df3.UnitPrice)\n",
        "ax[0].set_title(\"Biểu đồ so sánh giá nhà trung bình trên m2 giữa các hình thức nhà\", fontsize = 14)\n",
        "ax[0].set_xlabel(\"hình thức nhà\", fontsize = 14)\n",
        "ax[0].set_ylabel(\"Giá trung bình (triệu VND/m2)\", fontsize = 14)\n",
        "\n",
        "# Vẽ đồ thị mối quan hệ giữa số phòng ngủ với giá nhà\n",
        "# Vẽ đồ thị thể hiện tỷ trọng GDP các nước\n",
        "ax[1].pie(df4.UnitPrice, autopct = '%1.1f%%')\n",
        "ax[1].legend(labels = df4.type_of_land)\n",
        "\n",
        "plt.show()"
      ],
      "metadata": {
        "colab": {
          "base_uri": "https://localhost:8080/",
          "height": 522
        },
        "id": "AbE1KdZtDw9Y",
        "outputId": "9d9172a7-c39f-41d1-ea3f-268c958efe6a"
      },
      "execution_count": null,
      "outputs": [
        {
          "output_type": "display_data",
          "data": {
            "image/png": "[encoded data removed]",
            "text/plain": [
              "<Figure size 1296x576 with 2 Axes>"
            ]
          },
          "metadata": {
            "needs_background": "light"
          }
        }
      ]
    },
    {
      "cell_type": "markdown",
      "source": [
        "# 5. Vẽ biểu đồ thể hiện sự thay đổi giá nhà trung bình trên 1m2 theo số lượng phòng ngủ, theo số phòng toilet hoặc theo diện tích"
      ],
      "metadata": {
        "id": "VZSwJVbAE9ye"
      }
    },
    {
      "cell_type": "code",
      "source": [
        "df2.info()"
      ],
      "metadata": {
        "colab": {
          "base_uri": "https://localhost:8080/"
        },
        "id": "0wADvsW9FAcw",
        "outputId": "7d28e2d0-85d4-4769-d3b5-2a8b4c3d95e8"
      },
      "execution_count": null,
      "outputs": [
        {
          "output_type": "stream",
          "name": "stdout",
          "text": [
            "<class 'pandas.core.frame.DataFrame'>\n",
            "Int64Index: 912 entries, 0 to 925\n",
            "Data columns (total 6 columns):\n",
            " #   Column        Non-Null Count  Dtype  \n",
            "---  ------        --------------  -----  \n",
            " 0   area          912 non-null    float64\n",
            " 1   price         912 non-null    float64\n",
            " 2   bedroom       912 non-null    float64\n",
            " 3   toilet        912 non-null    float64\n",
            " 4   type_of_land  912 non-null    object \n",
            " 5   UnitPrice     912 non-null    float64\n",
            "dtypes: float64(5), object(1)\n",
            "memory usage: 49.9+ KB\n"
          ]
        }
      ]
    },
    {
      "cell_type": "code",
      "source": [
        "# Chia đồ thị làm 3 phần dọc\n",
        "fig, ax = plt.subplots(3, 1)\n",
        "fig.set_figheight(12)\n",
        "fig.set_figwidth(18)\n",
        "\n",
        "# Vẽ đồ thị mối quan hệ giữa giá nhà trung bình theo m2 và diện tích nhà\n",
        "ax[0].scatter(df2.UnitPrice, df2.area)\n",
        "ax[0].set_title(\"Mối quan hệ giữa giá nhà trung bình và diện tích nhà\", fontsize = 14)\n",
        "ax[0].set_ylabel(\"Diện tích nhà m2\", fontsize = 14)\n",
        "\n",
        "# Vẽ đồ thị mối quan hệ giữa giá nhà trung bình theo m2 và số phòng ngủ\n",
        "ax[1].scatter(df2.UnitPrice, df2.bedroom)\n",
        "ax[1].set_title(\"Mối quan hệ giữa giá nhà và số phòng ngủ\", fontsize = 14)\n",
        "ax[1].set_ylabel(\"Số phòng ngủ\", fontsize = 14)\n",
        "\n",
        "# Vẽ đồ thị mối quan hệ giữa giá nhà trung bình theo m2 theo số toilet\n",
        "ax[2].scatter(df2.UnitPrice, df2.toilet)\n",
        "ax[2].set_title(\"Mối quan hệ giữa giá nhà và số toilet\", fontsize = 14)\n",
        "ax[2].set_ylabel(\"Số toilet\", fontsize = 14)\n",
        "ax[2].set_xlabel(\"Giá nhà trung bình (triệu VND/m2)\")\n",
        "\n",
        "plt.show()"
      ],
      "metadata": {
        "colab": {
          "base_uri": "https://localhost:8080/",
          "height": 733
        },
        "id": "lkN6bheAFMsv",
        "outputId": "85d5f21a-a011-4259-8dd4-e6c74dd6249a"
      },
      "execution_count": null,
      "outputs": [
        {
          "output_type": "display_data",
          "data": {
            "image/png": "[encoded data removed]",
            "text/plain": [
              "<Figure size 1296x864 with 3 Axes>"
            ]
          },
          "metadata": {
            "needs_background": "light"
          }
        }
      ]
    }
  ]
}